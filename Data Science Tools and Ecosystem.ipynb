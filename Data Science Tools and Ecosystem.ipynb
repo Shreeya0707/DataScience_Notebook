{
  "metadata": {
    "kernelspec": {
      "name": "python",
      "display_name": "Python (Pyodide)",
      "language": "python"
    },
    "language_info": {
      "codemirror_mode": {
        "name": "python",
        "version": 3
      },
      "file_extension": ".py",
      "mimetype": "text/x-python",
      "name": "python",
      "nbconvert_exporter": "python",
      "pygments_lexer": "ipython3",
      "version": "3.8"
    }
  },
  "nbformat_minor": 4,
  "nbformat": 4,
  "cells": [
    {
      "cell_type": "markdown",
      "source": "# **Tools For Data Science and its Ecosystem**\n",
      "metadata": {}
    },
    {
      "cell_type": "markdown",
      "source": "Data Science Tools and ecosystem summary ",
      "metadata": {}
    },
    {
      "cell_type": "markdown",
      "source": "### Popular Data Science Languages\n\n1. Python  \n2. R  \n3. Julia  \n4. SQL  \n5. Scala  \n6. Java  \n7. MATLAB  \n8. C/C++",
      "metadata": {}
    },
    {
      "cell_type": "markdown",
      "source": "### Popular Data Science Libraries\n\n- **Python**:\n  - NumPy\n  - Pandas\n  - Matplotlib\n  - Scikit-learn\n  - TensorFlow\n  - PyTorch\n  - Seaborn\n\n- **R**:\n  - ggplot2\n  - dplyr\n  - tidyr\n  - caret\n  - shiny\n\n- **Julia**:\n  - DataFrames.jl\n  - Flux.jl\n  - Gadfly",
      "metadata": {}
    },
    {
      "cell_type": "markdown",
      "source": "### Popular Data Science Tools\n\n| Tool           | Category          | Description                                |\n|----------------|-------------------|--------------------------------------------|\n| Jupyter Notebook | IDE/Environment   | Interactive environment for coding and visualization. |\n| RStudio         | IDE/Environment   | IDE for R programming with integrated tools. |\n| Apache Spark    | Big Data Framework | Distributed data processing framework.    |\n| Tableau         | Visualization     | Tool for creating interactive dashboards. |\n| Power BI        | Visualization     | Business intelligence and visualization tool. |\n| TensorFlow      | Machine Learning  | Library for deep learning and neural networks. |\n| Hadoop          | Big Data Framework | Framework for distributed storage and processing. |\n| Excel           | Data Manipulation | Tool for spreadsheet analysis and basic data processing. |",
      "metadata": {}
    },
    {
      "cell_type": "markdown",
      "source": "### Arithmetic Expression Examples\n\nArithmetic expressions are used to perform mathematical operations. Here are some common examples:\n\n1. **Addition**: `5 + 3 = 8`\n2. **Subtraction**: `10 - 4 = 6`\n3. **Multiplication**: `7 * 2 = 14`\n4. **Division**: `12 / 3 = 4`\n5. **Modulus (Remainder)**: `10 % 3 = 1`\n6. **Exponentiation**: `2 ** 3 = 8`\n\nArithmetic expressions are essential in performing calculations and manipulating numerical data.",
      "metadata": {}
    },
    {
      "cell_type": "code",
      "source": "# Multiplication and Addition Example\n# Define numbers\na = 5\nb = 3\nc = 2\n\n# Perform operations\nmultiplication = a * b\naddition = multiplication + c\n\n# Display results\nprint(\"Multiplication of\", a, \"and\", b, \"is:\", multiplication)\nprint(\"Addition of\", multiplication, \"and\", c, \"is:\", addition)\n",
      "metadata": {
        "trusted": true
      },
      "outputs": [
        {
          "name": "stdout",
          "text": "Multiplication of 5 and 3 is: 15\nAddition of 15 and 2 is: 17\n",
          "output_type": "stream"
        }
      ],
      "execution_count": 2
    },
    {
      "cell_type": "code",
      "source": "# Convert Minutes to Hours\n\n# Input: Number of minutes\nminutes = 150\n\n# Conversion\nhours = minutes / 60\n\n# Display result\nprint(f\"{minutes} minutes is equal to {hours} hours.\")",
      "metadata": {
        "trusted": true
      },
      "outputs": [
        {
          "name": "stdout",
          "text": "150 minutes is equal to 2.5 hours.\n",
          "output_type": "stream"
        }
      ],
      "execution_count": 3
    },
    {
      "cell_type": "markdown",
      "source": "### Objectives\n\nThe key objectives of this project are:\n\n1. Understand the fundamentals of Data Science tools and techniques.\n2. Explore the use of programming languages such as Python and R for data analysis.\n3. Learn how to preprocess, visualize, and analyze data effectively.\n4. Implement machine learning algorithms to solve real-world problems.\n5. Present insights and findings through interactive dashboards and visualizations.",
      "metadata": {}
    },
    {
      "cell_type": "markdown",
      "source": "### Author\n\n**V Shreeya**  \n",
      "metadata": {}
    },
    {
      "cell_type": "code",
      "source": "",
      "metadata": {
        "trusted": true
      },
      "outputs": [],
      "execution_count": null
    }
  ]
}